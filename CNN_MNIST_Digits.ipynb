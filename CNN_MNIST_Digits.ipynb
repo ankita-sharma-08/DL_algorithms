{
  "nbformat": 4,
  "nbformat_minor": 0,
  "metadata": {
    "colab": {
      "provenance": []
    },
    "kernelspec": {
      "name": "python3",
      "display_name": "Python 3"
    },
    "language_info": {
      "name": "python"
    }
  },
  "cells": [
    {
      "cell_type": "code",
      "execution_count": 25,
      "metadata": {
        "id": "ZUXsaXwX0j4G"
      },
      "outputs": [],
      "source": [
        "import tensorflow as tf\n",
        "from tensorflow.keras import layers ,models\n",
        "import matplotlib.pyplot as plt"
      ]
    },
    {
      "cell_type": "code",
      "source": [
        "(x_train, y_train),(x_test, y_test) = tf.keras.datasets.mnist.load_data()"
      ],
      "metadata": {
        "id": "biFItZg71D7n"
      },
      "execution_count": 26,
      "outputs": []
    },
    {
      "cell_type": "code",
      "source": [
        "# Normalize the data\n",
        "x_train = x_train / 255.0\n",
        "x_test = x_test / 255.0"
      ],
      "metadata": {
        "id": "qhdOXC2g3D6Y"
      },
      "execution_count": 27,
      "outputs": []
    },
    {
      "cell_type": "code",
      "source": [
        "# reshape the data iclude the channel\n",
        "x_train = x_train.reshape(-1,28,28,1)\n",
        "x_test = x_test.reshape(-1,28,28,1)"
      ],
      "metadata": {
        "id": "qWO-nA2d3gaP"
      },
      "execution_count": 28,
      "outputs": []
    },
    {
      "cell_type": "code",
      "source": [
        "# build the cnn model\n",
        "model = models.Sequential([ layers.Conv2D(32,(3,3),activation='relu',input_shape = (28,28,1)),\n",
        "                            layers.MaxPooling2D((2,2)),\n",
        "                            layers.Conv2D(64,(3,3),activation='relu'),\n",
        "                            layers.MaxPooling2D((2,2)),\n",
        "                            layers.Flatten(),\n",
        "                            layers.Dense(64,activation='relu'),\n",
        "                            layers.Dense(10,activation='softmax')])\n",
        "\n",
        "#compile the model\n",
        "\n",
        "\n",
        "model.compile(optimizer = 'adam',loss = 'sparse_categorical_crossentropy',metrics = ['accuracy'])"
      ],
      "metadata": {
        "id": "zruuXDZi4Fdp"
      },
      "execution_count": 29,
      "outputs": []
    },
    {
      "cell_type": "code",
      "source": [
        "# Testing\n",
        "\n",
        "model.fit(x_train,y_train, epochs = 5,validation_data=(x_test,y_test))\n",
        "test_loss,test_acc = model.evaluate(x_test,y_test)\n",
        "\n",
        "print(f'Test accuracy : {test_acc: .4f}')"
      ],
      "metadata": {
        "colab": {
          "base_uri": "https://localhost:8080/"
        },
        "id": "0iioNnMB9k_0",
        "outputId": "36cd780c-1263-4b12-a31f-01847e07b1d5"
      },
      "execution_count": 30,
      "outputs": [
        {
          "output_type": "stream",
          "name": "stdout",
          "text": [
            "Epoch 1/5\n",
            "\u001b[1m1875/1875\u001b[0m \u001b[32m━━━━━━━━━━━━━━━━━━━━\u001b[0m\u001b[37m\u001b[0m \u001b[1m55s\u001b[0m 29ms/step - accuracy: 0.8895 - loss: 0.3619 - val_accuracy: 0.9844 - val_loss: 0.0469\n",
            "Epoch 2/5\n",
            "\u001b[1m1875/1875\u001b[0m \u001b[32m━━━━━━━━━━━━━━━━━━━━\u001b[0m\u001b[37m\u001b[0m \u001b[1m82s\u001b[0m 29ms/step - accuracy: 0.9851 - loss: 0.0492 - val_accuracy: 0.9879 - val_loss: 0.0350\n",
            "Epoch 3/5\n",
            "\u001b[1m1875/1875\u001b[0m \u001b[32m━━━━━━━━━━━━━━━━━━━━\u001b[0m\u001b[37m\u001b[0m \u001b[1m82s\u001b[0m 29ms/step - accuracy: 0.9901 - loss: 0.0316 - val_accuracy: 0.9871 - val_loss: 0.0360\n",
            "Epoch 4/5\n",
            "\u001b[1m1875/1875\u001b[0m \u001b[32m━━━━━━━━━━━━━━━━━━━━\u001b[0m\u001b[37m\u001b[0m \u001b[1m81s\u001b[0m 28ms/step - accuracy: 0.9924 - loss: 0.0228 - val_accuracy: 0.9890 - val_loss: 0.0349\n",
            "Epoch 5/5\n",
            "\u001b[1m1875/1875\u001b[0m \u001b[32m━━━━━━━━━━━━━━━━━━━━\u001b[0m\u001b[37m\u001b[0m \u001b[1m82s\u001b[0m 28ms/step - accuracy: 0.9943 - loss: 0.0175 - val_accuracy: 0.9873 - val_loss: 0.0399\n",
            "\u001b[1m313/313\u001b[0m \u001b[32m━━━━━━━━━━━━━━━━━━━━\u001b[0m\u001b[37m\u001b[0m \u001b[1m3s\u001b[0m 8ms/step - accuracy: 0.9836 - loss: 0.0463\n",
            "Test accuracy :  0.9873\n"
          ]
        }
      ]
    },
    {
      "cell_type": "code",
      "source": [
        "# Loading an image\n",
        "from PIL import Image\n",
        "import pandas as pd\n",
        "import numpy as np"
      ],
      "metadata": {
        "id": "MaOwJ8O1DIOy"
      },
      "execution_count": 31,
      "outputs": []
    },
    {
      "cell_type": "code",
      "source": [
        "# Converts it to grayscale ('L' mode) with pixel values from 0-255\n",
        "img = Image.open('four.jpg').convert('L')\n",
        "img = img.resize((28,28))\n",
        "img_array = np.array(img)\n",
        "img_array = img_array - 255\n",
        "\n",
        "img_array = img_array/255\n",
        "input_data = img_array.reshape(1,28,28,1)\n",
        "pred = model.predict(input_data)\n",
        "\n",
        "np.argmax(pred)"
      ],
      "metadata": {
        "colab": {
          "base_uri": "https://localhost:8080/"
        },
        "id": "3nW98PlAnVlg",
        "outputId": "cd134116-8a65-4ee2-929e-27d85ee72585"
      },
      "execution_count": 32,
      "outputs": [
        {
          "output_type": "stream",
          "name": "stdout",
          "text": [
            "\u001b[1m1/1\u001b[0m \u001b[32m━━━━━━━━━━━━━━━━━━━━\u001b[0m\u001b[37m\u001b[0m \u001b[1m0s\u001b[0m 103ms/step\n"
          ]
        },
        {
          "output_type": "execute_result",
          "data": {
            "text/plain": [
              "np.int64(4)"
            ]
          },
          "metadata": {},
          "execution_count": 32
        }
      ]
    },
    {
      "cell_type": "code",
      "source": [
        "img =  Image.open('four.jpg').convert('L')\n",
        "img"
      ],
      "metadata": {
        "id": "IUAvGSAurJPd",
        "colab": {
          "base_uri": "https://localhost:8080/",
          "height": 477
        },
        "outputId": "dfcb5e08-1916-45b8-b782-17d27e7c7488"
      },
      "execution_count": 33,
      "outputs": [
        {
          "output_type": "execute_result",
          "data": {
            "text/plain": [
              "<PIL.Image.Image image mode=L size=819x460>"
            ],
            "image/png": "[encoded data removed]",
            "image/jpeg": "[encoded data removed]"
          },
          "metadata": {},
          "execution_count": 33
        }
      ]
    },
    {
      "cell_type": "code",
      "source": [],
      "metadata": {
        "id": "Ix-oKWC5yn6m"
      },
      "execution_count": null,
      "outputs": []
    }
  ]
}