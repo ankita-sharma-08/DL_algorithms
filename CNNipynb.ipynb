{
  "nbformat": 4,
  "nbformat_minor": 0,
  "metadata": {
    "colab": {
      "provenance": []
    },
    "kernelspec": {
      "name": "python3",
      "display_name": "Python 3"
    },
    "language_info": {
      "name": "python"
    }
  },
  "cells": [
    {
      "cell_type": "code",
      "execution_count": 17,
      "metadata": {
        "id": "ZUXsaXwX0j4G"
      },
      "outputs": [],
      "source": [
        "import tensorflow as tf\n",
        "from tensorflow.keras import layers ,models\n",
        "import matplotlib.pyplot as plt"
      ]
    },
    {
      "cell_type": "code",
      "source": [
        "(x_train, y_train),(x_test, y_test) = tf.keras.datasets.mnist.load_data()"
      ],
      "metadata": {
        "id": "biFItZg71D7n"
      },
      "execution_count": 18,
      "outputs": []
    },
    {
      "cell_type": "code",
      "source": [
        "# Normalize the data\n",
        "x_train = x_train / 255.0\n",
        "x_test = x_test / 255.0"
      ],
      "metadata": {
        "id": "qhdOXC2g3D6Y"
      },
      "execution_count": 19,
      "outputs": []
    },
    {
      "cell_type": "code",
      "source": [
        "# reshape the data iclude the channel\n",
        "x_train = x_train.reshape(-1,28,28,1)\n",
        "x_test = x_test.reshape(-1,28,28,1)"
      ],
      "metadata": {
        "id": "qWO-nA2d3gaP"
      },
      "execution_count": 20,
      "outputs": []
    },
    {
      "cell_type": "code",
      "source": [
        "# build the cnn model\n",
        "model = models.Sequential([ layers.Conv2D(32,(3,3),activation='relu',input_shape = (28,28,1)),\n",
        "                            layers.MaxPooling2D((2,2)),\n",
        "                            layers.Conv2D(64,(3,3),activation='relu'),\n",
        "                            layers.MaxPooling2D((2,2)),\n",
        "                            layers.Flatten(),\n",
        "                            layers.Dense(64,activation='relu'),\n",
        "                            layers.Dense(10,activation='softmax')])\n",
        "\n",
        "#compile the model\n",
        "\n",
        "\n",
        "model.compile(optimizer = 'adam',loss = 'sparse_categorical_crossentropy',metrics = ['accuracy'])"
      ],
      "metadata": {
        "colab": {
          "base_uri": "https://localhost:8080/"
        },
        "id": "zruuXDZi4Fdp",
        "outputId": "c8ae28df-a3a9-434c-d916-9e10046b6003"
      },
      "execution_count": 24,
      "outputs": [
        {
          "output_type": "stream",
          "name": "stderr",
          "text": [
            "/usr/local/lib/python3.11/dist-packages/keras/src/layers/convolutional/base_conv.py:107: UserWarning: Do not pass an `input_shape`/`input_dim` argument to a layer. When using Sequential models, prefer using an `Input(shape)` object as the first layer in the model instead.\n",
            "  super().__init__(activity_regularizer=activity_regularizer, **kwargs)\n"
          ]
        }
      ]
    },
    {
      "cell_type": "code",
      "source": [
        "# Testing\n",
        "\n",
        "model.fit(x_train,y_train, epochs = 5,validation_data=(x_test,y_test))\n",
        "test_loss,test_acc = model.evaluate(x_test,y_test)\n",
        "\n",
        "print(f'Test accuracy : {test_acc: .4f}')"
      ],
      "metadata": {
        "colab": {
          "base_uri": "https://localhost:8080/"
        },
        "id": "0iioNnMB9k_0",
        "outputId": "d910f983-1070-4c23-da78-960588832060"
      },
      "execution_count": 25,
      "outputs": [
        {
          "output_type": "stream",
          "name": "stdout",
          "text": [
            "Epoch 1/5\n",
            "\u001b[1m1875/1875\u001b[0m \u001b[32m━━━━━━━━━━━━━━━━━━━━\u001b[0m\u001b[37m\u001b[0m \u001b[1m58s\u001b[0m 30ms/step - accuracy: 0.9039 - loss: 0.3177 - val_accuracy: 0.9843 - val_loss: 0.0479\n",
            "Epoch 2/5\n",
            "\u001b[1m1875/1875\u001b[0m \u001b[32m━━━━━━━━━━━━━━━━━━━━\u001b[0m\u001b[37m\u001b[0m \u001b[1m83s\u001b[0m 31ms/step - accuracy: 0.9846 - loss: 0.0481 - val_accuracy: 0.9899 - val_loss: 0.0303\n",
            "Epoch 3/5\n",
            "\u001b[1m1875/1875\u001b[0m \u001b[32m━━━━━━━━━━━━━━━━━━━━\u001b[0m\u001b[37m\u001b[0m \u001b[1m78s\u001b[0m 29ms/step - accuracy: 0.9913 - loss: 0.0288 - val_accuracy: 0.9891 - val_loss: 0.0342\n",
            "Epoch 4/5\n",
            "\u001b[1m1875/1875\u001b[0m \u001b[32m━━━━━━━━━━━━━━━━━━━━\u001b[0m\u001b[37m\u001b[0m \u001b[1m83s\u001b[0m 30ms/step - accuracy: 0.9932 - loss: 0.0215 - val_accuracy: 0.9902 - val_loss: 0.0305\n",
            "Epoch 5/5\n",
            "\u001b[1m1875/1875\u001b[0m \u001b[32m━━━━━━━━━━━━━━━━━━━━\u001b[0m\u001b[37m\u001b[0m \u001b[1m84s\u001b[0m 31ms/step - accuracy: 0.9940 - loss: 0.0176 - val_accuracy: 0.9872 - val_loss: 0.0392\n",
            "\u001b[1m313/313\u001b[0m \u001b[32m━━━━━━━━━━━━━━━━━━━━\u001b[0m\u001b[37m\u001b[0m \u001b[1m3s\u001b[0m 8ms/step - accuracy: 0.9840 - loss: 0.0508\n",
            "Test accuracy :  0.9872\n"
          ]
        }
      ]
    },
    {
      "cell_type": "code",
      "source": [
        "# Loading an image\n",
        "from PIL import Image\n",
        "import pandas as pd\n",
        "import numpy as np"
      ],
      "metadata": {
        "id": "MaOwJ8O1DIOy"
      },
      "execution_count": 27,
      "outputs": []
    },
    {
      "cell_type": "code",
      "source": [
        "# Converts it to grayscale ('L' mode) with pixel values from 0-255\n",
        "img = Image.open('seven.jpg').convert('L')\n",
        "img = img.resize((28,28))\n",
        "img_array = np.array(img)\n",
        "img_array = img_array - 255\n",
        "\n",
        "img_array = img_array/255\n",
        "input_data = img_array.reshape(1,28,28,1)\n",
        "pred = model.predict(input_data)\n",
        "\n",
        "np.argmax(pred)"
      ],
      "metadata": {
        "colab": {
          "base_uri": "https://localhost:8080/"
        },
        "id": "3nW98PlAnVlg",
        "outputId": "7703e5b5-fd50-4570-9caf-91e7473ea224"
      },
      "execution_count": 28,
      "outputs": [
        {
          "output_type": "stream",
          "name": "stdout",
          "text": [
            "\u001b[1m1/1\u001b[0m \u001b[32m━━━━━━━━━━━━━━━━━━━━\u001b[0m\u001b[37m\u001b[0m \u001b[1m0s\u001b[0m 124ms/step\n"
          ]
        },
        {
          "output_type": "execute_result",
          "data": {
            "text/plain": [
              "np.int64(7)"
            ]
          },
          "metadata": {},
          "execution_count": 28
        }
      ]
    },
    {
      "cell_type": "code",
      "source": [],
      "metadata": {
        "id": "fa57GtVIqObY"
      },
      "execution_count": null,
      "outputs": []
    },
    {
      "cell_type": "code",
      "source": [],
      "metadata": {
        "id": "IUAvGSAurJPd"
      },
      "execution_count": null,
      "outputs": []
    }
  ]
}